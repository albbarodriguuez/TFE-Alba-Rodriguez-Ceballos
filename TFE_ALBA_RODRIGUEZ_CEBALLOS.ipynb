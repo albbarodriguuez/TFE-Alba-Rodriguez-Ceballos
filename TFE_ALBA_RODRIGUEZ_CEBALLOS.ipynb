{
 "cells": [
  {
   "cell_type": "markdown",
   "metadata": {},
   "source": [
    "# TFM Alba Rodríguez Ceballos - DNI: 70920432R"
   ]
  },
  {
   "cell_type": "markdown",
   "metadata": {},
   "source": [
    "#### Título: Análisis predictivo de precios de criptomonedas utilizando redes neuronales recurrentes"
   ]
  },
  {
   "cell_type": "markdown",
   "metadata": {},
   "source": [
    "## Librerías"
   ]
  },
  {
   "cell_type": "code",
   "execution_count": 1,
   "metadata": {},
   "outputs": [],
   "source": [
    "import pandas as pd\n",
    "import numpy as np\n",
    "import tensorflow as tf \n",
    "import matplotlib.pyplot as plt\n",
    "import matplotlib.dates as mdates\n",
    "from sklearn.preprocessing import MinMaxScaler\n",
    "from keras.models import Sequential\n",
    "from keras.layers import Dense, Dropout, GRU, LSTM\n",
    "from keras import optimizers \n",
    "\n",
    "seed = 1234\n",
    "np.random.seed(seed)\n",
    "plt.style.use('ggplot')\n",
    "\n",
    "import warnings\n",
    "warnings.simplefilter(action='ignore', category=FutureWarning)"
   ]
  },
  {
   "cell_type": "markdown",
   "metadata": {},
   "source": [
    "## Selección de parámetros\n"
   ]
  },
  {
   "cell_type": "markdown",
   "metadata": {},
   "source": [
    "#### La siguiente celda es la única a lo largo de todo el cuaderno que deberá modificarse según la criptomoneda y el modelo deseados.\n",
    "\n",
    "Las opciónes disponibles para el modelo son las siguientes:\n",
    "* LSTM\n",
    "* GRU\n",
    "* LSTMGRU\n",
    "\n",
    "Las opciónes disponibles para el modelo son las siguientes:\n",
    "* SYS\n",
    "* XLM\n",
    "* XRP"
   ]
  },
  {
   "cell_type": "code",
   "execution_count": 321,
   "metadata": {},
   "outputs": [],
   "source": [
    "model = 'LSTMGRU'\n",
    "cripto = 'XRP'"
   ]
  },
  {
   "cell_type": "markdown",
   "metadata": {},
   "source": [
    "## Lectura de datos y análisis exploratorio"
   ]
  },
  {
   "cell_type": "markdown",
   "metadata": {},
   "source": [
    "##### Lectura de los datos en un DataFrame de pandas. \n",
    "Importante: Los datasets deben de ser colocados en la misma ruta que el cuaderno."
   ]
  },
  {
   "cell_type": "code",
   "execution_count": 322,
   "metadata": {},
   "outputs": [
    {
     "data": {
      "text/html": [
       "<div>\n",
       "<style scoped>\n",
       "    .dataframe tbody tr th:only-of-type {\n",
       "        vertical-align: middle;\n",
       "    }\n",
       "\n",
       "    .dataframe tbody tr th {\n",
       "        vertical-align: top;\n",
       "    }\n",
       "\n",
       "    .dataframe thead th {\n",
       "        text-align: right;\n",
       "    }\n",
       "</style>\n",
       "<table border=\"1\" class=\"dataframe\">\n",
       "  <thead>\n",
       "    <tr style=\"text-align: right;\">\n",
       "      <th></th>\n",
       "      <th>Open</th>\n",
       "      <th>High</th>\n",
       "      <th>Low</th>\n",
       "      <th>Close</th>\n",
       "      <th>Volume</th>\n",
       "      <th>Market Cap</th>\n",
       "    </tr>\n",
       "    <tr>\n",
       "      <th>Date</th>\n",
       "      <th></th>\n",
       "      <th></th>\n",
       "      <th></th>\n",
       "      <th></th>\n",
       "      <th></th>\n",
       "      <th></th>\n",
       "    </tr>\n",
       "  </thead>\n",
       "  <tbody>\n",
       "    <tr>\n",
       "      <th>2014-12-31</th>\n",
       "      <td>0.024438</td>\n",
       "      <td>0.024455</td>\n",
       "      <td>0.024205</td>\n",
       "      <td>0.024384</td>\n",
       "      <td>5.622160e+05</td>\n",
       "      <td>7.537143e+08</td>\n",
       "    </tr>\n",
       "    <tr>\n",
       "      <th>2015-01-01</th>\n",
       "      <td>0.024390</td>\n",
       "      <td>0.024423</td>\n",
       "      <td>0.024309</td>\n",
       "      <td>0.024323</td>\n",
       "      <td>3.900928e+05</td>\n",
       "      <td>7.545424e+08</td>\n",
       "    </tr>\n",
       "    <tr>\n",
       "      <th>2015-01-02</th>\n",
       "      <td>0.024318</td>\n",
       "      <td>0.024318</td>\n",
       "      <td>0.022181</td>\n",
       "      <td>0.022181</td>\n",
       "      <td>1.230739e+06</td>\n",
       "      <td>7.274643e+08</td>\n",
       "    </tr>\n",
       "    <tr>\n",
       "      <th>2015-01-03</th>\n",
       "      <td>0.022106</td>\n",
       "      <td>0.022142</td>\n",
       "      <td>0.018828</td>\n",
       "      <td>0.018930</td>\n",
       "      <td>3.211723e+06</td>\n",
       "      <td>6.302048e+08</td>\n",
       "    </tr>\n",
       "    <tr>\n",
       "      <th>2015-01-04</th>\n",
       "      <td>0.018928</td>\n",
       "      <td>0.020314</td>\n",
       "      <td>0.018890</td>\n",
       "      <td>0.020305</td>\n",
       "      <td>3.473846e+06</td>\n",
       "      <td>6.032247e+08</td>\n",
       "    </tr>\n",
       "    <tr>\n",
       "      <th>...</th>\n",
       "      <td>...</td>\n",
       "      <td>...</td>\n",
       "      <td>...</td>\n",
       "      <td>...</td>\n",
       "      <td>...</td>\n",
       "      <td>...</td>\n",
       "    </tr>\n",
       "    <tr>\n",
       "      <th>2022-08-25</th>\n",
       "      <td>0.349162</td>\n",
       "      <td>0.368554</td>\n",
       "      <td>0.333530</td>\n",
       "      <td>0.337303</td>\n",
       "      <td>1.373683e+09</td>\n",
       "      <td>1.600905e+10</td>\n",
       "    </tr>\n",
       "    <tr>\n",
       "      <th>2022-08-26</th>\n",
       "      <td>0.338526</td>\n",
       "      <td>0.338889</td>\n",
       "      <td>0.330337</td>\n",
       "      <td>0.335478</td>\n",
       "      <td>1.624555e+09</td>\n",
       "      <td>1.546358e+10</td>\n",
       "    </tr>\n",
       "    <tr>\n",
       "      <th>2022-08-27</th>\n",
       "      <td>0.335117</td>\n",
       "      <td>0.336616</td>\n",
       "      <td>0.323496</td>\n",
       "      <td>0.323496</td>\n",
       "      <td>7.711837e+08</td>\n",
       "      <td>1.541577e+10</td>\n",
       "    </tr>\n",
       "    <tr>\n",
       "      <th>2022-08-28</th>\n",
       "      <td>0.322254</td>\n",
       "      <td>0.333257</td>\n",
       "      <td>0.319392</td>\n",
       "      <td>0.333087</td>\n",
       "      <td>1.066642e+09</td>\n",
       "      <td>1.501387e+10</td>\n",
       "    </tr>\n",
       "    <tr>\n",
       "      <th>2022-08-29</th>\n",
       "      <td>0.333613</td>\n",
       "      <td>0.335232</td>\n",
       "      <td>0.321081</td>\n",
       "      <td>0.326527</td>\n",
       "      <td>1.155749e+09</td>\n",
       "      <td>1.517886e+10</td>\n",
       "    </tr>\n",
       "  </tbody>\n",
       "</table>\n",
       "<p>2799 rows × 6 columns</p>\n",
       "</div>"
      ],
      "text/plain": [
       "                Open      High       Low     Close        Volume    Market Cap\n",
       "Date                                                                          \n",
       "2014-12-31  0.024438  0.024455  0.024205  0.024384  5.622160e+05  7.537143e+08\n",
       "2015-01-01  0.024390  0.024423  0.024309  0.024323  3.900928e+05  7.545424e+08\n",
       "2015-01-02  0.024318  0.024318  0.022181  0.022181  1.230739e+06  7.274643e+08\n",
       "2015-01-03  0.022106  0.022142  0.018828  0.018930  3.211723e+06  6.302048e+08\n",
       "2015-01-04  0.018928  0.020314  0.018890  0.020305  3.473846e+06  6.032247e+08\n",
       "...              ...       ...       ...       ...           ...           ...\n",
       "2022-08-25  0.349162  0.368554  0.333530  0.337303  1.373683e+09  1.600905e+10\n",
       "2022-08-26  0.338526  0.338889  0.330337  0.335478  1.624555e+09  1.546358e+10\n",
       "2022-08-27  0.335117  0.336616  0.323496  0.323496  7.711837e+08  1.541577e+10\n",
       "2022-08-28  0.322254  0.333257  0.319392  0.333087  1.066642e+09  1.501387e+10\n",
       "2022-08-29  0.333613  0.335232  0.321081  0.326527  1.155749e+09  1.517886e+10\n",
       "\n",
       "[2799 rows x 6 columns]"
      ]
     },
     "execution_count": 322,
     "metadata": {},
     "output_type": "execute_result"
    }
   ],
   "source": [
    "dataraw = pd.read_csv('data'+cripto+'.csv',index_col='Date', parse_dates=['Date']).sort_values('Date')\n",
    "dataraw"
   ]
  },
  {
   "cell_type": "markdown",
   "metadata": {},
   "source": [
    "##### Descripción estadística de los datos"
   ]
  },
  {
   "cell_type": "code",
   "execution_count": 323,
   "metadata": {},
   "outputs": [
    {
     "data": {
      "text/html": [
       "<div>\n",
       "<style scoped>\n",
       "    .dataframe tbody tr th:only-of-type {\n",
       "        vertical-align: middle;\n",
       "    }\n",
       "\n",
       "    .dataframe tbody tr th {\n",
       "        vertical-align: top;\n",
       "    }\n",
       "\n",
       "    .dataframe thead th {\n",
       "        text-align: right;\n",
       "    }\n",
       "</style>\n",
       "<table border=\"1\" class=\"dataframe\">\n",
       "  <thead>\n",
       "    <tr style=\"text-align: right;\">\n",
       "      <th></th>\n",
       "      <th>Open</th>\n",
       "      <th>High</th>\n",
       "      <th>Low</th>\n",
       "      <th>Close</th>\n",
       "      <th>Volume</th>\n",
       "      <th>Market Cap</th>\n",
       "    </tr>\n",
       "  </thead>\n",
       "  <tbody>\n",
       "    <tr>\n",
       "      <th>count</th>\n",
       "      <td>2799.000000</td>\n",
       "      <td>2799.000000</td>\n",
       "      <td>2799.000000</td>\n",
       "      <td>2799.000000</td>\n",
       "      <td>2.799000e+03</td>\n",
       "      <td>2.799000e+03</td>\n",
       "    </tr>\n",
       "    <tr>\n",
       "      <th>mean</th>\n",
       "      <td>0.352962</td>\n",
       "      <td>0.369179</td>\n",
       "      <td>0.336412</td>\n",
       "      <td>0.352963</td>\n",
       "      <td>2.597665e+09</td>\n",
       "      <td>1.500498e+10</td>\n",
       "    </tr>\n",
       "    <tr>\n",
       "      <th>std</th>\n",
       "      <td>0.389135</td>\n",
       "      <td>0.418754</td>\n",
       "      <td>0.362496</td>\n",
       "      <td>0.388698</td>\n",
       "      <td>6.586728e+09</td>\n",
       "      <td>1.638983e+10</td>\n",
       "    </tr>\n",
       "    <tr>\n",
       "      <th>min</th>\n",
       "      <td>0.004090</td>\n",
       "      <td>0.004189</td>\n",
       "      <td>0.004041</td>\n",
       "      <td>0.004090</td>\n",
       "      <td>3.428607e+04</td>\n",
       "      <td>1.373416e+08</td>\n",
       "    </tr>\n",
       "    <tr>\n",
       "      <th>25%</th>\n",
       "      <td>0.009061</td>\n",
       "      <td>0.009254</td>\n",
       "      <td>0.008836</td>\n",
       "      <td>0.009067</td>\n",
       "      <td>2.059914e+06</td>\n",
       "      <td>3.054259e+08</td>\n",
       "    </tr>\n",
       "    <tr>\n",
       "      <th>50%</th>\n",
       "      <td>0.264732</td>\n",
       "      <td>0.275975</td>\n",
       "      <td>0.255666</td>\n",
       "      <td>0.264444</td>\n",
       "      <td>6.210909e+08</td>\n",
       "      <td>1.112545e+10</td>\n",
       "    </tr>\n",
       "    <tr>\n",
       "      <th>75%</th>\n",
       "      <td>0.473924</td>\n",
       "      <td>0.491528</td>\n",
       "      <td>0.457287</td>\n",
       "      <td>0.472776</td>\n",
       "      <td>2.060581e+09</td>\n",
       "      <td>1.944027e+10</td>\n",
       "    </tr>\n",
       "    <tr>\n",
       "      <th>max</th>\n",
       "      <td>3.357564</td>\n",
       "      <td>3.917855</td>\n",
       "      <td>3.076936</td>\n",
       "      <td>3.359538</td>\n",
       "      <td>1.069988e+11</td>\n",
       "      <td>1.373512e+11</td>\n",
       "    </tr>\n",
       "  </tbody>\n",
       "</table>\n",
       "</div>"
      ],
      "text/plain": [
       "              Open         High          Low        Close        Volume  \\\n",
       "count  2799.000000  2799.000000  2799.000000  2799.000000  2.799000e+03   \n",
       "mean      0.352962     0.369179     0.336412     0.352963  2.597665e+09   \n",
       "std       0.389135     0.418754     0.362496     0.388698  6.586728e+09   \n",
       "min       0.004090     0.004189     0.004041     0.004090  3.428607e+04   \n",
       "25%       0.009061     0.009254     0.008836     0.009067  2.059914e+06   \n",
       "50%       0.264732     0.275975     0.255666     0.264444  6.210909e+08   \n",
       "75%       0.473924     0.491528     0.457287     0.472776  2.060581e+09   \n",
       "max       3.357564     3.917855     3.076936     3.359538  1.069988e+11   \n",
       "\n",
       "         Market Cap  \n",
       "count  2.799000e+03  \n",
       "mean   1.500498e+10  \n",
       "std    1.638983e+10  \n",
       "min    1.373416e+08  \n",
       "25%    3.054259e+08  \n",
       "50%    1.112545e+10  \n",
       "75%    1.944027e+10  \n",
       "max    1.373512e+11  "
      ]
     },
     "execution_count": 323,
     "metadata": {},
     "output_type": "execute_result"
    }
   ],
   "source": [
    "dataraw.describe()"
   ]
  },
  {
   "cell_type": "markdown",
   "metadata": {},
   "source": [
    "##### Representación gráfica de las variables 'Date' y 'Close'."
   ]
  },
  {
   "cell_type": "code",
   "execution_count": 324,
   "metadata": {},
   "outputs": [
    {
     "data": {
      "image/png": "[encoded data removed]",
      "text/plain": [
       "<Figure size 1008x432 with 1 Axes>"
      ]
     },
     "metadata": {},
     "output_type": "display_data"
    }
   ],
   "source": [
    "dataset = pd.DataFrame(dataraw['Close'])\n",
    "\n",
    "fig = plt.figure(figsize=(14, 6))\n",
    "plt.plot(dataset)\n",
    "plt.xlabel('Fecha')\n",
    "plt.ylabel('Precio ' + cripto)\n",
    "plt.gca().xaxis.set_major_formatter(mdates.DateFormatter(\"%Y-%m\"))\n",
    "plt.title('Precio histórico ' + cripto)\n",
    "plt.show()"
   ]
  },
  {
   "cell_type": "markdown",
   "metadata": {},
   "source": [
    "## Preprocesamiento de datos"
   ]
  },
  {
   "cell_type": "markdown",
   "metadata": {},
   "source": [
    "##### Normalización de los datos máximo-mínimo"
   ]
  },
  {
   "cell_type": "code",
   "execution_count": 325,
   "metadata": {},
   "outputs": [
    {
     "data": {
      "text/html": [
       "<div>\n",
       "<style scoped>\n",
       "    .dataframe tbody tr th:only-of-type {\n",
       "        vertical-align: middle;\n",
       "    }\n",
       "\n",
       "    .dataframe tbody tr th {\n",
       "        vertical-align: top;\n",
       "    }\n",
       "\n",
       "    .dataframe thead th {\n",
       "        text-align: right;\n",
       "    }\n",
       "</style>\n",
       "<table border=\"1\" class=\"dataframe\">\n",
       "  <thead>\n",
       "    <tr style=\"text-align: right;\">\n",
       "      <th></th>\n",
       "      <th>Close</th>\n",
       "    </tr>\n",
       "    <tr>\n",
       "      <th>Date</th>\n",
       "      <th></th>\n",
       "    </tr>\n",
       "  </thead>\n",
       "  <tbody>\n",
       "    <tr>\n",
       "      <th>2014-12-31</th>\n",
       "      <td>0.006048</td>\n",
       "    </tr>\n",
       "    <tr>\n",
       "      <th>2015-01-01</th>\n",
       "      <td>0.006030</td>\n",
       "    </tr>\n",
       "    <tr>\n",
       "      <th>2015-01-02</th>\n",
       "      <td>0.005391</td>\n",
       "    </tr>\n",
       "    <tr>\n",
       "      <th>2015-01-03</th>\n",
       "      <td>0.004423</td>\n",
       "    </tr>\n",
       "    <tr>\n",
       "      <th>2015-01-04</th>\n",
       "      <td>0.004832</td>\n",
       "    </tr>\n",
       "    <tr>\n",
       "      <th>...</th>\n",
       "      <td>...</td>\n",
       "    </tr>\n",
       "    <tr>\n",
       "      <th>2022-08-25</th>\n",
       "      <td>0.099305</td>\n",
       "    </tr>\n",
       "    <tr>\n",
       "      <th>2022-08-26</th>\n",
       "      <td>0.098761</td>\n",
       "    </tr>\n",
       "    <tr>\n",
       "      <th>2022-08-27</th>\n",
       "      <td>0.095190</td>\n",
       "    </tr>\n",
       "    <tr>\n",
       "      <th>2022-08-28</th>\n",
       "      <td>0.098049</td>\n",
       "    </tr>\n",
       "    <tr>\n",
       "      <th>2022-08-29</th>\n",
       "      <td>0.096093</td>\n",
       "    </tr>\n",
       "  </tbody>\n",
       "</table>\n",
       "<p>2799 rows × 1 columns</p>\n",
       "</div>"
      ],
      "text/plain": [
       "               Close\n",
       "Date                \n",
       "2014-12-31  0.006048\n",
       "2015-01-01  0.006030\n",
       "2015-01-02  0.005391\n",
       "2015-01-03  0.004423\n",
       "2015-01-04  0.004832\n",
       "...              ...\n",
       "2022-08-25  0.099305\n",
       "2022-08-26  0.098761\n",
       "2022-08-27  0.095190\n",
       "2022-08-28  0.098049\n",
       "2022-08-29  0.096093\n",
       "\n",
       "[2799 rows x 1 columns]"
      ]
     },
     "execution_count": 325,
     "metadata": {},
     "output_type": "execute_result"
    }
   ],
   "source": [
    "dataset_norm = dataset.copy()\n",
    "dataset[['Close']]\n",
    "scaler = MinMaxScaler()\n",
    "dataset_norm['Close'] = scaler.fit_transform(dataset[['Close']])\n",
    "dataset_norm"
   ]
  },
  {
   "cell_type": "code",
   "execution_count": 326,
   "metadata": {},
   "outputs": [
    {
     "data": {
      "image/png": "[encoded data removed]",
      "text/plain": [
       "<Figure size 720x288 with 1 Axes>"
      ]
     },
     "metadata": {},
     "output_type": "display_data"
    }
   ],
   "source": [
    "fig = plt.figure(figsize=(10, 4))\n",
    "plt.plot(dataset_norm)\n",
    "plt.xlabel('Fecha')\n",
    "plt.gca().xaxis.set_major_formatter(mdates.DateFormatter(\"%Y-%m\"))\n",
    "plt.title('Data Normalized')\n",
    "plt.show()"
   ]
  },
  {
   "cell_type": "markdown",
   "metadata": {},
   "source": [
    "##### Data Split\n",
    "Entrenamiento (70%) - Validación (10%) - Test (20%)"
   ]
  },
  {
   "cell_type": "code",
   "execution_count": 327,
   "metadata": {},
   "outputs": [],
   "source": [
    "#Particiones\n",
    "totaldata = dataset.values\n",
    "totaldatatrain = int(len(totaldata)*0.7)\n",
    "totaldataval = int(len(totaldata)*0.1)\n",
    "totaldatatest = int(len(totaldata)*0.2)\n",
    "\n",
    "#Almacenar particiones en dataframes\n",
    "training_set = dataset_norm[0:totaldatatrain]\n",
    "val_set=dataset_norm[totaldatatrain:totaldatatrain+totaldataval]\n",
    "test_set = dataset_norm[totaldatatrain+totaldataval:]"
   ]
  },
  {
   "cell_type": "markdown",
   "metadata": {},
   "source": [
    "Visualización de la partición"
   ]
  },
  {
   "cell_type": "code",
   "execution_count": 328,
   "metadata": {},
   "outputs": [
    {
     "data": {
      "image/png": "[encoded data removed]",
      "text/plain": [
       "<Figure size 720x288 with 1 Axes>"
      ]
     },
     "metadata": {},
     "output_type": "display_data"
    }
   ],
   "source": [
    "fig = plt.figure(figsize=(10, 4))\n",
    "plt.plot(training_set, color='green',label='Entrenamiento')\n",
    "plt.plot(val_set, label='Validación')\n",
    "plt.plot(test_set, label='Test')\n",
    "plt.xlabel('Fecha')\n",
    "plt.gca().xaxis.set_major_formatter(mdates.DateFormatter(\"%Y-%m\"))\n",
    "plt.title('Data Split ' + cripto)\n",
    "plt.legend()\n",
    "plt.show()"
   ]
  },
  {
   "cell_type": "markdown",
   "metadata": {},
   "source": [
    "##### Creación de la sliding window"
   ]
  },
  {
   "cell_type": "code",
   "execution_count": 329,
   "metadata": {},
   "outputs": [],
   "source": [
    "# tamaño de la ventana\n",
    "lag = 2\n",
    "\n",
    "# función para crear la sliding window sobre cada partición\n",
    "def create_sliding_windows(data,len_data,lag):\n",
    "    x=[]\n",
    "    y=[]\n",
    "    for i in range(lag,len_data):\n",
    "        x.append(data[i-lag:i,0])\n",
    "        y.append(data[i,0]) \n",
    "    return np.array(x),np.array(y)\n",
    "\n",
    "# Formatear los datos en arrays para poder crear la sliding window\n",
    "array_training_set = np.array(training_set)\n",
    "array_val_set = np.array(val_set)\n",
    "array_test_set = np.array(test_set)\n",
    "\n",
    "# Crear sliding windows sobre los datos de entrenamiento\n",
    "x_train, y_train = create_sliding_windows(array_training_set,len(array_training_set), lag)\n",
    "x_train = np.reshape(x_train, (x_train.shape[0],x_train.shape[1],1))\n",
    "\n",
    "# Crear sliding windows sobre los datos de validacion\n",
    "x_val,y_val = create_sliding_windows(array_val_set,len(array_val_set),lag)\n",
    "x_val = np.reshape(x_val, (x_val.shape[0],x_val.shape[1],1))\n",
    "\n",
    "# Crear sliding windows sobre los datos de test\n",
    "x_test,y_test = create_sliding_windows(array_test_set,len(array_test_set),lag)\n",
    "x_test = np.reshape(x_test, (x_test.shape[0],x_test.shape[1],1))"
   ]
  },
  {
   "cell_type": "markdown",
   "metadata": {},
   "source": [
    "## Implementación de los modelos"
   ]
  },
  {
   "cell_type": "markdown",
   "metadata": {},
   "source": [
    "##### Definición de los modelos"
   ]
  },
  {
   "cell_type": "markdown",
   "metadata": {},
   "source": [
    "LSTM"
   ]
  },
  {
   "cell_type": "code",
   "execution_count": 330,
   "metadata": {},
   "outputs": [],
   "source": [
    "def modelo_LSTM():\n",
    "\n",
    "    regressorLSTM = Sequential()\n",
    "\n",
    "\n",
    "    # Primera capa LSTM con dropout del 20%\n",
    "    regressorLSTM.add(LSTM(units=hidden_unit, return_sequences=True, input_shape=(x_train.shape[1],1), activation = 'tanh'))\n",
    "    regressorLSTM.add(Dropout(0.2))\n",
    "    \n",
    "    # Segunda capa LSTM con dropout del 20%\n",
    "    regressorLSTM.add(LSTM(units=hidden_unit, return_sequences=False))\n",
    "    regressorLSTM.add(Dropout(0.2))\n",
    "\n",
    "    # Capa de salida fully-connected\n",
    "    regressorLSTM.add(Dense(units=1))\n",
    "\n",
    "    # Compilado del modelo\n",
    "    regressorLSTM.compile(optimizer=tf.optimizers.Adam(learning_rate),loss='mean_squared_error')\n",
    "\n",
    "    # Ajustado del modelo a los datos de entrenamiento\n",
    "    pred = regressorLSTM.fit(x_train, y_train, validation_data=(x_val,y_val), batch_size=batch_size, epochs=epoch)\n",
    "    \n",
    "    return pred, regressorLSTM"
   ]
  },
  {
   "cell_type": "markdown",
   "metadata": {},
   "source": [
    "GRU"
   ]
  },
  {
   "cell_type": "code",
   "execution_count": 331,
   "metadata": {},
   "outputs": [],
   "source": [
    "def modelo_GRU():\n",
    "\n",
    "    regressorGRU = Sequential()\n",
    "\n",
    "    # Primera capa GRU con dropout del 20%\n",
    "    regressorGRU.add(GRU(units=hidden_unit, return_sequences=True, input_shape=(x_train.shape[1],1), activation = 'tanh'))\n",
    "    regressorGRU.add(Dropout(0.2))\n",
    "    \n",
    "    \n",
    "    # Segunda capa GRU con dropout del 20%\n",
    "    regressorGRU.add(GRU(units=hidden_unit, return_sequences=False))\n",
    "    regressorGRU.add(Dropout(0.2))\n",
    "\n",
    "    # Capa de salida fully-connected\n",
    "    regressorGRU.add(Dense(units=1))\n",
    "\n",
    "    # Compilado del modelo\n",
    "    regressorGRU.compile(optimizer=tf.optimizers.Adam(learning_rate),loss='mean_squared_error')\n",
    "\n",
    "    # Ajustado del modelo a los datos de entrenamiento\n",
    "    pred = regressorGRU.fit(x_train, y_train, validation_data=(x_val,y_val), batch_size=batch_size, epochs=epoch)\n",
    "    \n",
    "    return pred, regressorGRU"
   ]
  },
  {
   "cell_type": "markdown",
   "metadata": {},
   "source": [
    "LSTM-GRU"
   ]
  },
  {
   "cell_type": "code",
   "execution_count": 332,
   "metadata": {},
   "outputs": [],
   "source": [
    "def modelo_LSTMGRU():\n",
    "\n",
    "    regressorLSTMGRU = Sequential()\n",
    "    \n",
    "    # Primera capa LSTM con dropout del 20%\n",
    "    regressorLSTMGRU.add(LSTM(hidden_unit,return_sequences=True,input_shape=(x_train.shape[1],1), activation = 'tanh'))\n",
    "    regressorLSTMGRU.add(Dropout(0.2))\n",
    "    \n",
    "    # Segunda capa GRU con dropout del 20%\n",
    "    regressorLSTMGRU.add(GRU(units=hidden_unit, return_sequences=False))\n",
    "    regressorLSTMGRU.add(Dropout(0.2))\n",
    "\n",
    "    # Capa de salida fully-connected\n",
    "    regressorLSTMGRU.add(Dense(units=1))\n",
    "\n",
    "    # Compiling the Gated Recurrent Unit\n",
    "    regressorLSTMGRU.compile(optimizer=tf.optimizers.Adam(learning_rate),loss='mean_squared_error')\n",
    "\n",
    "    # Fitting ke data training dan data validation\n",
    "    pred = regressorLSTMGRU.fit(x_train, y_train, validation_data=(x_val,y_val), batch_size=batch_size, epochs=epoch)\n",
    "    \n",
    "    return pred, regressorLSTMGRU"
   ]
  },
  {
   "cell_type": "markdown",
   "metadata": {},
   "source": [
    "##### Ejecución del modelo elegido y la selección de los hiperparámetros correspondientes"
   ]
  },
  {
   "cell_type": "code",
   "execution_count": 333,
   "metadata": {},
   "outputs": [
    {
     "name": "stdout",
     "output_type": "stream",
     "text": [
      "Epoch 1/80\n",
      "31/31 [==============================] - 7s 47ms/step - loss: 0.0066 - val_loss: 3.4129e-04\n",
      "Epoch 2/80\n",
      "31/31 [==============================] - 0s 10ms/step - loss: 7.9823e-04 - val_loss: 1.1898e-04\n",
      "Epoch 3/80\n",
      "31/31 [==============================] - 0s 11ms/step - loss: 4.5386e-04 - val_loss: 1.1982e-04\n",
      "Epoch 4/80\n",
      "31/31 [==============================] - 0s 10ms/step - loss: 4.4917e-04 - val_loss: 1.1461e-04\n",
      "Epoch 5/80\n",
      "31/31 [==============================] - 0s 11ms/step - loss: 4.6048e-04 - val_loss: 1.1780e-04\n",
      "Epoch 6/80\n",
      "31/31 [==============================] - 0s 11ms/step - loss: 4.4262e-04 - val_loss: 1.3255e-04\n",
      "Epoch 7/80\n",
      "31/31 [==============================] - 0s 12ms/step - loss: 4.4747e-04 - val_loss: 1.2015e-04\n",
      "Epoch 8/80\n",
      "31/31 [==============================] - 0s 10ms/step - loss: 4.2939e-04 - val_loss: 1.2116e-04\n",
      "Epoch 9/80\n",
      "31/31 [==============================] - 0s 10ms/step - loss: 4.8691e-04 - val_loss: 1.6508e-04\n",
      "Epoch 10/80\n",
      "31/31 [==============================] - 0s 10ms/step - loss: 4.1097e-04 - val_loss: 1.3301e-04\n",
      "Epoch 11/80\n",
      "31/31 [==============================] - 0s 10ms/step - loss: 4.1984e-04 - val_loss: 1.2650e-04\n",
      "Epoch 12/80\n",
      "31/31 [==============================] - 0s 10ms/step - loss: 3.9891e-04 - val_loss: 1.1349e-04\n",
      "Epoch 13/80\n",
      "31/31 [==============================] - 0s 9ms/step - loss: 3.8064e-04 - val_loss: 1.4524e-04\n",
      "Epoch 14/80\n",
      "31/31 [==============================] - 0s 10ms/step - loss: 4.4963e-04 - val_loss: 1.1308e-04\n",
      "Epoch 15/80\n",
      "31/31 [==============================] - 0s 10ms/step - loss: 3.9155e-04 - val_loss: 1.3488e-04\n",
      "Epoch 16/80\n",
      "31/31 [==============================] - 0s 10ms/step - loss: 3.6515e-04 - val_loss: 1.1113e-04\n",
      "Epoch 17/80\n",
      "31/31 [==============================] - 0s 11ms/step - loss: 3.6643e-04 - val_loss: 1.5078e-04\n",
      "Epoch 18/80\n",
      "31/31 [==============================] - 0s 11ms/step - loss: 4.1138e-04 - val_loss: 1.3273e-04\n",
      "Epoch 19/80\n",
      "31/31 [==============================] - 0s 11ms/step - loss: 3.6690e-04 - val_loss: 1.1086e-04\n",
      "Epoch 20/80\n",
      "31/31 [==============================] - 0s 11ms/step - loss: 3.2143e-04 - val_loss: 1.1128e-04\n",
      "Epoch 21/80\n",
      "31/31 [==============================] - 0s 12ms/step - loss: 3.7289e-04 - val_loss: 1.1397e-04\n",
      "Epoch 22/80\n",
      "31/31 [==============================] - 0s 10ms/step - loss: 3.8091e-04 - val_loss: 1.2982e-04\n",
      "Epoch 23/80\n",
      "31/31 [==============================] - 0s 10ms/step - loss: 4.1469e-04 - val_loss: 1.5388e-04\n",
      "Epoch 24/80\n",
      "31/31 [==============================] - 0s 10ms/step - loss: 4.3253e-04 - val_loss: 1.1550e-04\n",
      "Epoch 25/80\n",
      "31/31 [==============================] - 0s 10ms/step - loss: 3.2931e-04 - val_loss: 1.1526e-04\n",
      "Epoch 26/80\n",
      "31/31 [==============================] - 0s 10ms/step - loss: 3.8057e-04 - val_loss: 1.3883e-04\n",
      "Epoch 27/80\n",
      "31/31 [==============================] - 0s 10ms/step - loss: 4.1196e-04 - val_loss: 1.1350e-04\n",
      "Epoch 28/80\n",
      "31/31 [==============================] - 0s 10ms/step - loss: 4.3801e-04 - val_loss: 1.3567e-04\n",
      "Epoch 29/80\n",
      "31/31 [==============================] - 0s 10ms/step - loss: 2.8995e-04 - val_loss: 1.1978e-04\n",
      "Epoch 30/80\n",
      "31/31 [==============================] - 0s 10ms/step - loss: 4.0677e-04 - val_loss: 1.0727e-04\n",
      "Epoch 31/80\n",
      "31/31 [==============================] - 0s 10ms/step - loss: 3.6590e-04 - val_loss: 1.1101e-04\n",
      "Epoch 32/80\n",
      "31/31 [==============================] - 0s 10ms/step - loss: 3.4405e-04 - val_loss: 1.3458e-04\n",
      "Epoch 33/80\n",
      "31/31 [==============================] - 0s 10ms/step - loss: 5.2236e-04 - val_loss: 1.0666e-04\n",
      "Epoch 34/80\n",
      "31/31 [==============================] - 0s 10ms/step - loss: 2.9682e-04 - val_loss: 1.1369e-04\n",
      "Epoch 35/80\n",
      "31/31 [==============================] - 0s 10ms/step - loss: 3.7746e-04 - val_loss: 1.6307e-04\n",
      "Epoch 36/80\n",
      "31/31 [==============================] - 0s 10ms/step - loss: 3.1204e-04 - val_loss: 1.0364e-04\n",
      "Epoch 37/80\n",
      "31/31 [==============================] - 0s 10ms/step - loss: 3.4301e-04 - val_loss: 1.1309e-04\n",
      "Epoch 38/80\n",
      "31/31 [==============================] - 0s 10ms/step - loss: 3.0725e-04 - val_loss: 1.2853e-04\n",
      "Epoch 39/80\n",
      "31/31 [==============================] - 0s 10ms/step - loss: 3.3963e-04 - val_loss: 1.2414e-04\n",
      "Epoch 40/80\n",
      "31/31 [==============================] - 0s 11ms/step - loss: 2.7284e-04 - val_loss: 1.0544e-04\n",
      "Epoch 41/80\n",
      "31/31 [==============================] - 0s 11ms/step - loss: 2.6999e-04 - val_loss: 1.0305e-04\n",
      "Epoch 42/80\n",
      "31/31 [==============================] - 0s 11ms/step - loss: 2.8950e-04 - val_loss: 1.3014e-04\n",
      "Epoch 43/80\n",
      "31/31 [==============================] - 0s 12ms/step - loss: 3.2000e-04 - val_loss: 1.3455e-04\n",
      "Epoch 44/80\n",
      "31/31 [==============================] - 0s 12ms/step - loss: 3.1893e-04 - val_loss: 1.1603e-04\n",
      "Epoch 45/80\n",
      "31/31 [==============================] - 0s 12ms/step - loss: 3.4829e-04 - val_loss: 1.4201e-04\n",
      "Epoch 46/80\n",
      "31/31 [==============================] - 1s 24ms/step - loss: 3.4340e-04 - val_loss: 1.1860e-04\n",
      "Epoch 47/80\n",
      "31/31 [==============================] - 1s 19ms/step - loss: 3.6681e-04 - val_loss: 1.1297e-04\n",
      "Epoch 48/80\n",
      "31/31 [==============================] - 1s 26ms/step - loss: 3.4039e-04 - val_loss: 1.0902e-04\n",
      "Epoch 49/80\n",
      "31/31 [==============================] - 1s 19ms/step - loss: 2.9505e-04 - val_loss: 1.3304e-04\n",
      "Epoch 50/80\n",
      "31/31 [==============================] - 0s 14ms/step - loss: 3.2197e-04 - val_loss: 9.6980e-05\n",
      "Epoch 51/80\n",
      "31/31 [==============================] - 0s 13ms/step - loss: 3.2309e-04 - val_loss: 1.0196e-04\n",
      "Epoch 52/80\n",
      "31/31 [==============================] - 0s 13ms/step - loss: 2.8266e-04 - val_loss: 9.9504e-05\n",
      "Epoch 53/80\n",
      "31/31 [==============================] - 0s 13ms/step - loss: 3.1806e-04 - val_loss: 1.1445e-04\n",
      "Epoch 54/80\n",
      "31/31 [==============================] - 0s 12ms/step - loss: 3.8065e-04 - val_loss: 1.5871e-04\n",
      "Epoch 55/80\n",
      "31/31 [==============================] - 0s 13ms/step - loss: 2.9265e-04 - val_loss: 9.7813e-05\n",
      "Epoch 56/80\n",
      "31/31 [==============================] - 0s 13ms/step - loss: 3.8647e-04 - val_loss: 1.3041e-04\n",
      "Epoch 57/80\n",
      "31/31 [==============================] - 0s 13ms/step - loss: 2.9978e-04 - val_loss: 9.8090e-05\n",
      "Epoch 58/80\n",
      "31/31 [==============================] - 0s 13ms/step - loss: 3.9324e-04 - val_loss: 1.1232e-04\n",
      "Epoch 59/80\n",
      "31/31 [==============================] - 0s 12ms/step - loss: 2.9733e-04 - val_loss: 9.3894e-05\n",
      "Epoch 60/80\n",
      "31/31 [==============================] - 0s 13ms/step - loss: 2.7587e-04 - val_loss: 1.3012e-04\n",
      "Epoch 61/80\n",
      "31/31 [==============================] - 0s 12ms/step - loss: 3.5368e-04 - val_loss: 1.1418e-04\n",
      "Epoch 62/80\n",
      "31/31 [==============================] - 0s 11ms/step - loss: 4.4181e-04 - val_loss: 1.0027e-04\n",
      "Epoch 63/80\n",
      "31/31 [==============================] - 0s 12ms/step - loss: 2.9171e-04 - val_loss: 1.1397e-04\n",
      "Epoch 64/80\n",
      "31/31 [==============================] - 0s 12ms/step - loss: 2.6589e-04 - val_loss: 9.5356e-05\n",
      "Epoch 65/80\n",
      "31/31 [==============================] - 0s 12ms/step - loss: 4.0372e-04 - val_loss: 1.2558e-04\n",
      "Epoch 66/80\n",
      "31/31 [==============================] - 0s 12ms/step - loss: 3.6723e-04 - val_loss: 1.0789e-04\n",
      "Epoch 67/80\n",
      "31/31 [==============================] - 0s 12ms/step - loss: 3.1304e-04 - val_loss: 1.0048e-04\n",
      "Epoch 68/80\n",
      "31/31 [==============================] - 0s 15ms/step - loss: 3.6652e-04 - val_loss: 9.7453e-05\n",
      "Epoch 69/80\n",
      "31/31 [==============================] - 0s 12ms/step - loss: 3.1911e-04 - val_loss: 8.8342e-05\n",
      "Epoch 70/80\n",
      "31/31 [==============================] - 0s 12ms/step - loss: 2.9423e-04 - val_loss: 9.5035e-05\n",
      "Epoch 71/80\n",
      "31/31 [==============================] - 0s 12ms/step - loss: 2.7829e-04 - val_loss: 9.2285e-05\n",
      "Epoch 72/80\n",
      "31/31 [==============================] - 0s 13ms/step - loss: 2.8978e-04 - val_loss: 9.5295e-05\n",
      "Epoch 73/80\n",
      "31/31 [==============================] - 1s 19ms/step - loss: 2.8799e-04 - val_loss: 1.3285e-04\n",
      "Epoch 74/80\n",
      "31/31 [==============================] - 1s 17ms/step - loss: 3.1641e-04 - val_loss: 1.0528e-04\n",
      "Epoch 75/80\n",
      "31/31 [==============================] - 0s 16ms/step - loss: 3.5568e-04 - val_loss: 9.7061e-05\n",
      "Epoch 76/80\n",
      "31/31 [==============================] - 1s 19ms/step - loss: 3.3900e-04 - val_loss: 9.1956e-05\n"
     ]
    },
    {
     "name": "stdout",
     "output_type": "stream",
     "text": [
      "Epoch 77/80\n",
      "31/31 [==============================] - 1s 17ms/step - loss: 2.5767e-04 - val_loss: 8.7976e-05\n",
      "Epoch 78/80\n",
      "31/31 [==============================] - 1s 20ms/step - loss: 3.0309e-04 - val_loss: 1.1524e-04\n",
      "Epoch 79/80\n",
      "31/31 [==============================] - 1s 21ms/step - loss: 3.7282e-04 - val_loss: 1.1076e-04\n",
      "Epoch 80/80\n",
      "31/31 [==============================] - 1s 35ms/step - loss: 2.9404e-04 - val_loss: 9.6079e-05\n"
     ]
    }
   ],
   "source": [
    "if model == 'LSTM':\n",
    "    \n",
    "    #Hiperparámetros\n",
    "    learning_rate = 0.001\n",
    "    hidden_unit = 80\n",
    "    batch_size = 64\n",
    "    epoch = 60\n",
    "    \n",
    "    #Ejecución\n",
    "    pred, regresor = modelo_LSTM()\n",
    "    \n",
    "if model == 'GRU':\n",
    "    \n",
    "    #Hiperparámetros\n",
    "    learning_rate = 0.001\n",
    "    hidden_unit = 60\n",
    "    batch_size = 64\n",
    "    epoch = 80\n",
    "    \n",
    "    #Ejecución\n",
    "    pred, regresor = modelo_GRU()\n",
    "    \n",
    "if model == 'LSTMGRU':\n",
    "    \n",
    "    #Hiperparámetros\n",
    "    learning_rate = 0.001\n",
    "    hidden_unit = 60\n",
    "    batch_siz = 64\n",
    "    epoch = 80\n",
    "    \n",
    "    #Ejecución\n",
    "    pred, regresor = modelo_LSTMGRU()\n",
    "    "
   ]
  },
  {
   "cell_type": "markdown",
   "metadata": {},
   "source": [
    "##### Validación del modelo"
   ]
  },
  {
   "cell_type": "code",
   "execution_count": 334,
   "metadata": {},
   "outputs": [
    {
     "data": {
      "image/png": "[encoded data removed]",
      "text/plain": [
       "<Figure size 720x288 with 1 Axes>"
      ]
     },
     "metadata": {},
     "output_type": "display_data"
    }
   ],
   "source": [
    "fig = plt.figure(figsize=(10, 4))\n",
    "plt.plot(pred.history['loss'], label='train loss')\n",
    "plt.plot(pred.history['val_loss'], label='val loss')\n",
    "plt.title(model + ' loss para ' + cripto )\n",
    "plt.ylabel('loss')\n",
    "plt.xlabel('epoch')\n",
    "plt.legend(loc='upper right')\n",
    "plt.show()"
   ]
  },
  {
   "cell_type": "code",
   "execution_count": 335,
   "metadata": {},
   "outputs": [
    {
     "data": {
      "text/html": [
       "<div>\n",
       "<style scoped>\n",
       "    .dataframe tbody tr th:only-of-type {\n",
       "        vertical-align: middle;\n",
       "    }\n",
       "\n",
       "    .dataframe tbody tr th {\n",
       "        vertical-align: top;\n",
       "    }\n",
       "\n",
       "    .dataframe thead th {\n",
       "        text-align: right;\n",
       "    }\n",
       "</style>\n",
       "<table border=\"1\" class=\"dataframe\">\n",
       "  <thead>\n",
       "    <tr style=\"text-align: right;\">\n",
       "      <th></th>\n",
       "      <th>Training Loss</th>\n",
       "      <th>Validation Loss</th>\n",
       "    </tr>\n",
       "    <tr>\n",
       "      <th>Learning Rate</th>\n",
       "      <th></th>\n",
       "      <th></th>\n",
       "    </tr>\n",
       "  </thead>\n",
       "  <tbody>\n",
       "    <tr>\n",
       "      <th>0.001</th>\n",
       "      <td>0.000294</td>\n",
       "      <td>0.000096</td>\n",
       "    </tr>\n",
       "  </tbody>\n",
       "</table>\n",
       "</div>"
      ],
      "text/plain": [
       "               Training Loss  Validation Loss\n",
       "Learning Rate                                \n",
       "0.001               0.000294         0.000096"
      ]
     },
     "execution_count": 335,
     "metadata": {},
     "output_type": "execute_result"
    }
   ],
   "source": [
    "learningrate_parameter = learning_rate\n",
    "train_loss=pred.history['loss'][-1]\n",
    "validation_loss=pred.history['val_loss'][-1]\n",
    "learningrate_parameter=pd.DataFrame(data=[[learningrate_parameter, train_loss, validation_loss]],\n",
    "                                    columns=['Learning Rate', 'Training Loss', 'Validation Loss'])\n",
    "learningrate_parameter.set_index('Learning Rate')"
   ]
  },
  {
   "cell_type": "markdown",
   "metadata": {},
   "source": [
    "##### Predicciones sobre los datos de test y revertir la normalización"
   ]
  },
  {
   "cell_type": "code",
   "execution_count": 336,
   "metadata": {},
   "outputs": [
    {
     "name": "stdout",
     "output_type": "stream",
     "text": [
      "18/18 [==============================] - 2s 4ms/step\n"
     ]
    }
   ],
   "source": [
    "y_pred_test = regresor.predict(x_test)\n",
    "\n",
    "y_pred_invert_norm = scaler.inverse_transform(y_pred_test)"
   ]
  },
  {
   "cell_type": "markdown",
   "metadata": {},
   "source": [
    "##### Comparación de las predicciones y los datos de test"
   ]
  },
  {
   "cell_type": "code",
   "execution_count": 337,
   "metadata": {},
   "outputs": [
    {
     "data": {
      "text/html": [
       "<div>\n",
       "<style scoped>\n",
       "    .dataframe tbody tr th:only-of-type {\n",
       "        vertical-align: middle;\n",
       "    }\n",
       "\n",
       "    .dataframe tbody tr th {\n",
       "        vertical-align: top;\n",
       "    }\n",
       "\n",
       "    .dataframe thead th {\n",
       "        text-align: right;\n",
       "    }\n",
       "</style>\n",
       "<table border=\"1\" class=\"dataframe\">\n",
       "  <thead>\n",
       "    <tr style=\"text-align: right;\">\n",
       "      <th></th>\n",
       "      <th>Data Test</th>\n",
       "      <th>Prediction Results</th>\n",
       "    </tr>\n",
       "  </thead>\n",
       "  <tbody>\n",
       "    <tr>\n",
       "      <th>0</th>\n",
       "      <td>0.529976</td>\n",
       "      <td>0.550855</td>\n",
       "    </tr>\n",
       "    <tr>\n",
       "      <th>1</th>\n",
       "      <td>0.565898</td>\n",
       "      <td>0.552616</td>\n",
       "    </tr>\n",
       "    <tr>\n",
       "      <th>2</th>\n",
       "      <td>0.514649</td>\n",
       "      <td>0.577188</td>\n",
       "    </tr>\n",
       "    <tr>\n",
       "      <th>3</th>\n",
       "      <td>0.547167</td>\n",
       "      <td>0.552130</td>\n",
       "    </tr>\n",
       "    <tr>\n",
       "      <th>4</th>\n",
       "      <td>0.571915</td>\n",
       "      <td>0.558701</td>\n",
       "    </tr>\n",
       "    <tr>\n",
       "      <th>...</th>\n",
       "      <td>...</td>\n",
       "      <td>...</td>\n",
       "    </tr>\n",
       "    <tr>\n",
       "      <th>554</th>\n",
       "      <td>0.337303</td>\n",
       "      <td>0.360701</td>\n",
       "    </tr>\n",
       "    <tr>\n",
       "      <th>555</th>\n",
       "      <td>0.335478</td>\n",
       "      <td>0.353247</td>\n",
       "    </tr>\n",
       "    <tr>\n",
       "      <th>556</th>\n",
       "      <td>0.323496</td>\n",
       "      <td>0.347996</td>\n",
       "    </tr>\n",
       "    <tr>\n",
       "      <th>557</th>\n",
       "      <td>0.333087</td>\n",
       "      <td>0.338781</td>\n",
       "    </tr>\n",
       "    <tr>\n",
       "      <th>558</th>\n",
       "      <td>0.326527</td>\n",
       "      <td>0.341684</td>\n",
       "    </tr>\n",
       "  </tbody>\n",
       "</table>\n",
       "<p>559 rows × 2 columns</p>\n",
       "</div>"
      ],
      "text/plain": [
       "     Data Test  Prediction Results\n",
       "0     0.529976            0.550855\n",
       "1     0.565898            0.552616\n",
       "2     0.514649            0.577188\n",
       "3     0.547167            0.552130\n",
       "4     0.571915            0.558701\n",
       "..         ...                 ...\n",
       "554   0.337303            0.360701\n",
       "555   0.335478            0.353247\n",
       "556   0.323496            0.347996\n",
       "557   0.333087            0.338781\n",
       "558   0.326527            0.341684\n",
       "\n",
       "[559 rows x 2 columns]"
      ]
     },
     "execution_count": 337,
     "metadata": {},
     "output_type": "execute_result"
    }
   ],
   "source": [
    "datacompare = pd.DataFrame()\n",
    "datatest=np.array(dataset['Close'][totaldatatrain+totaldataval+lag:])\n",
    "datapred= y_pred_invert_norm\n",
    "\n",
    "datacompare['Data Test'] = datatest\n",
    "datacompare['Prediction Results'] = datapred\n",
    "datacompare"
   ]
  },
  {
   "cell_type": "markdown",
   "metadata": {},
   "source": [
    "##### Cálculo de las métricas de evaluación"
   ]
  },
  {
   "cell_type": "code",
   "execution_count": 338,
   "metadata": {},
   "outputs": [
    {
     "name": "stdout",
     "output_type": "stream",
     "text": [
      "Result Root Mean Square Error Prediction Model : 0.4681\n",
      "Result Mean Absolute Error Prediction Model :  0.3736\n"
     ]
    }
   ],
   "source": [
    "def rmse(datatest, datapred):\n",
    "    return np.round(np.sqrt(np.mean((datapred - datatest) ** 2)), 4)\n",
    "print('Result Root Mean Square Error Prediction Model :',rmse(datatest, datapred))\n",
    "\n",
    "def mae(datatest, datapred): \n",
    "    return np.round(np.mean(np.abs(datatest - datapred)), 4)\n",
    "    \n",
    "print('Result Mean Absolute Error Prediction Model : ', mae(datatest, datapred))"
   ]
  },
  {
   "cell_type": "markdown",
   "metadata": {},
   "source": [
    "##### Comparación gráfica de las predicciones y los datos de test"
   ]
  },
  {
   "cell_type": "code",
   "execution_count": 339,
   "metadata": {},
   "outputs": [
    {
     "data": {
      "image/png": "[encoded data removed]",
      "text/plain": [
       "<Figure size 800x320 with 1 Axes>"
      ]
     },
     "metadata": {},
     "output_type": "display_data"
    }
   ],
   "source": [
    "plt.figure(num=None, figsize=(10, 4), dpi=80,facecolor='w', edgecolor='k')\n",
    "plt.title('Resultados ' + model + ' para ' + cripto)\n",
    "plt.plot(datacompare['Data Test'], color='red',label='Data Test')\n",
    "plt.plot(datacompare['Prediction Results'], color='blue',label='Prediction Results')\n",
    "plt.xlabel('Day')\n",
    "plt.ylabel('Price')\n",
    "plt.legend()\n",
    "plt.show()"
   ]
  }
 ],
 "metadata": {
  "kernelspec": {
   "display_name": "Python 3",
   "language": "python",
   "name": "python3"
  },
  "language_info": {
   "codemirror_mode": {
    "name": "ipython",
    "version": 3
   },
   "file_extension": ".py",
   "mimetype": "text/x-python",
   "name": "python",
   "nbconvert_exporter": "python",
   "pygments_lexer": "ipython3",
   "version": "3.8.5"
  }
 },
 "nbformat": 4,
 "nbformat_minor": 4
}
